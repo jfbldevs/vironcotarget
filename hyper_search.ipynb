{
 "cells": [
  {
   "cell_type": "code",
   "execution_count": null,
   "metadata": {},
   "outputs": [],
   "source": [
    "\n",
    "from sklearn.model_selection import RandomizedSearchCV\n",
    "from scipy.stats import randint\n",
    "import pandas as pd\n",
    "import numpy as np\n",
    "from sklearn.model_selection import train_test_split\n",
    "from sklearn.ensemble import RandomForestClassifier\n",
    "from sklearn.neural_network import MLPClassifier\n",
    "\n",
    "\n",
    "# DataFrame\n",
    "df = pd.read_csv('data.csv')\n",
    "\n",
    "# Select all the columns except the last one as the features\n",
    "X = df.iloc[:, :-1]\n",
    "X = df.drop(['PRED'], axis=1)\n",
    "# Select the last column as the label\n",
    "y = df['PRED']\n",
    "\n",
    "from sklearn.preprocessing import StandardScaler\n",
    "\n",
    "scaler = StandardScaler()\n",
    "scaler.fit(X)\n",
    "X = scaler.transform(X)\n",
    "\n",
    "# Separamos nuestros datos en un conjunto de entrenamiento y uno de prueba\n",
    "X_train, X_test, y_train, y_test = train_test_split(X, y, train_size=0.8, test_size=0.2, random_state=42)\n",
    "\n",
    "# Define the distribution of hyperparameters to sample from\n",
    "\n",
    "import scipy.stats\n",
    "\n",
    "param_distributions = {\n",
    "    'hidden_layer_sizes': [(n,) for n in range(50, 1000, 10)],\n",
    "    'activation': ['relu', 'tanh', 'logistic'],\n",
    "    'solver': ['lbfgs', 'sgd', 'adam'],\n",
    "    'alpha': scipy.stats.loguniform(1e-5, 1e-1),\n",
    "    'learning_rate': ['constant', 'invscaling', 'adaptive'],\n",
    "    'learning_rate_init': scipy.stats.loguniform(1e-5, 1e-1),\n",
    "    'momentum': scipy.stats.uniform(0.1, 0.9),\n",
    "    'beta_1': scipy.stats.uniform(0.1, 0.9),\n",
    "    'beta_2': scipy.stats.uniform(0.1, 0.999),\n",
    "    'epsilon': scipy.stats.uniform(1e-9, 1e-7)\n",
    "}\n",
    "\n",
    "param_distributions = {\n",
    "    'n_estimators': [100, 300, 500, 800, 1000],\n",
    "    'criterion': ['gini', 'entropy'],\n",
    "    'max_depth': [5, 10, 15, 20, 25, 30, None],\n",
    "    'min_samples_split': [2, 5, 10],\n",
    "    'min_samples_leaf': [1, 2, 4],\n",
    "    'max_features': ['auto', 'sqrt', 'log2', None],\n",
    "    'bootstrap': [True, False],\n",
    "    'class_weight': [None, 'balanced', 'balanced_subsample'],\n",
    "    'min_weight_fraction_leaf': [0.0, 0.1, 0.2],\n",
    "    'max_leaf_nodes': [None, 5, 10, 20, 50],\n",
    "    'ccp_alpha': [0.0, 0.1, 0.2]\n",
    "}\n",
    "\n",
    "# Create a random forest classifier\n",
    "clp = RandomForestClassifier(random_state=42)\n",
    "clp = MLPClassifier(random_state=42)\n",
    "\n",
    "# Create a RandomizedSearchCV object\n",
    "random_search = RandomizedSearchCV(estimator=clp, param_distributions=param_distributions, \n",
    "                                   cv=10, scoring='accuracy', n_iter=10, n_jobs=-1, random_state=42)#n_iter=10\n",
    "\n",
    "# Fit the model using SMOTE-resampled training data\n",
    "random_search.fit(X_train, y_train)\n",
    "\n",
    "# Get the best set of hyperparameters found by the random search\n",
    "best_params = random_search.best_params_\n",
    "\n",
    "# Get the best model found by the random search\n",
    "best_model = random_search.best_estimator_"
   ]
  },
  {
   "cell_type": "code",
   "execution_count": null,
   "metadata": {},
   "outputs": [],
   "source": [
    "best_model.score(X_train, y_train)"
   ]
  },
  {
   "cell_type": "code",
   "execution_count": null,
   "metadata": {},
   "outputs": [],
   "source": [
    "best_model"
   ]
  },
  {
   "cell_type": "code",
   "execution_count": null,
   "metadata": {},
   "outputs": [],
   "source": [
    "best_params"
   ]
  }
 ],
 "metadata": {
  "kernelspec": {
   "display_name": "Python 3.9.10 64-bit",
   "language": "python",
   "name": "python3"
  },
  "language_info": {
   "name": "python",
   "version": "3.9.10"
  },
  "orig_nbformat": 4,
  "vscode": {
   "interpreter": {
    "hash": "aee8b7b246df8f9039afb4144a1f6fd8d2ca17a180786b69acc140d282b71a49"
   }
  }
 },
 "nbformat": 4,
 "nbformat_minor": 2
}
